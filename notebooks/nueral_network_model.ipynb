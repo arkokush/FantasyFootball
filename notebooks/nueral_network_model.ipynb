{
 "cells": [
  {
   "cell_type": "code",
   "id": "initial_id",
   "metadata": {
    "collapsed": true,
    "ExecuteTime": {
     "end_time": "2025-05-19T18:26:50.331945Z",
     "start_time": "2025-05-19T18:26:41.915039Z"
    }
   },
   "source": [
    "import tensorflow as tf\n",
    "from tensorflow import keras\n",
    "import matplotlib.pyplot as plt\n",
    "import pandas as pd\n",
    "import seaborn as sns\n",
    "from sklearn.preprocessing import StandardScaler, LabelEncoder, MinMaxScaler\n",
    "from sklearn.model_selection import train_test_split\n",
    "from imblearn.over_sampling import SMOTE\n",
    "from tensorflow.keras import layers, Model, Input\n",
    "from sklearn.ensemble import RandomForestClassifier\n",
    "import xgboost as xgb\n",
    "from sklearn.metrics import cohen_kappa_score\n"
   ],
   "outputs": [],
   "execution_count": 1
  },
  {
   "metadata": {
    "ExecuteTime": {
     "end_time": "2025-05-19T18:26:50.425079Z",
     "start_time": "2025-05-19T18:26:50.387205Z"
    }
   },
   "cell_type": "code",
   "source": [
    "all_draft_data = pd.read_csv('../data/2025/all_draft_data.csv')\n",
    "all_draft_data.head()"
   ],
   "id": "8e1e0277ef2cefc5",
   "outputs": [
    {
     "data": {
      "text/plain": [
       "   pick_no  round  scoring_type  qb_need  rb_need  wr_need  te_need  k_need  \\\n",
       "0        1      1           0.0        1        2        2        1       1   \n",
       "1        2      1           0.0        1        2        2        1       1   \n",
       "2        3      1           0.0        1        2        2        1       1   \n",
       "3        4      1           0.0        1        2        2        1       1   \n",
       "4        5      1           0.0        1        2        2        1       1   \n",
       "\n",
       "   dst_need  flex_need  ...  dst_available  flex_available  qb_vor  rb_vor  \\\n",
       "0         1          2  ...             32             151    69.0   164.0   \n",
       "1         1          2  ...             32             150    69.0   164.0   \n",
       "2         1          2  ...             32             149    69.0   164.0   \n",
       "3         1          2  ...             32             148    69.0   154.0   \n",
       "4         1          2  ...             32             147    69.0   154.0   \n",
       "\n",
       "   wr_vor  te_vor  k_vor  flex_vor  position_drafted             draft_id  \n",
       "0   125.0    68.0   17.0     164.0                WR  1224007842931937280  \n",
       "1   116.0    68.0   17.0     164.0                WR  1224007842931937280  \n",
       "2   116.0    68.0   17.0     164.0                RB  1224007842931937280  \n",
       "3   116.0    68.0   17.0     154.0                RB  1224007842931937280  \n",
       "4   116.0    68.0   17.0     154.0                WR  1224007842931937280  \n",
       "\n",
       "[5 rows x 32 columns]"
      ],
      "text/html": [
       "<div>\n",
       "<style scoped>\n",
       "    .dataframe tbody tr th:only-of-type {\n",
       "        vertical-align: middle;\n",
       "    }\n",
       "\n",
       "    .dataframe tbody tr th {\n",
       "        vertical-align: top;\n",
       "    }\n",
       "\n",
       "    .dataframe thead th {\n",
       "        text-align: right;\n",
       "    }\n",
       "</style>\n",
       "<table border=\"1\" class=\"dataframe\">\n",
       "  <thead>\n",
       "    <tr style=\"text-align: right;\">\n",
       "      <th></th>\n",
       "      <th>pick_no</th>\n",
       "      <th>round</th>\n",
       "      <th>scoring_type</th>\n",
       "      <th>qb_need</th>\n",
       "      <th>rb_need</th>\n",
       "      <th>wr_need</th>\n",
       "      <th>te_need</th>\n",
       "      <th>k_need</th>\n",
       "      <th>dst_need</th>\n",
       "      <th>flex_need</th>\n",
       "      <th>...</th>\n",
       "      <th>dst_available</th>\n",
       "      <th>flex_available</th>\n",
       "      <th>qb_vor</th>\n",
       "      <th>rb_vor</th>\n",
       "      <th>wr_vor</th>\n",
       "      <th>te_vor</th>\n",
       "      <th>k_vor</th>\n",
       "      <th>flex_vor</th>\n",
       "      <th>position_drafted</th>\n",
       "      <th>draft_id</th>\n",
       "    </tr>\n",
       "  </thead>\n",
       "  <tbody>\n",
       "    <tr>\n",
       "      <th>0</th>\n",
       "      <td>1</td>\n",
       "      <td>1</td>\n",
       "      <td>0.0</td>\n",
       "      <td>1</td>\n",
       "      <td>2</td>\n",
       "      <td>2</td>\n",
       "      <td>1</td>\n",
       "      <td>1</td>\n",
       "      <td>1</td>\n",
       "      <td>2</td>\n",
       "      <td>...</td>\n",
       "      <td>32</td>\n",
       "      <td>151</td>\n",
       "      <td>69.0</td>\n",
       "      <td>164.0</td>\n",
       "      <td>125.0</td>\n",
       "      <td>68.0</td>\n",
       "      <td>17.0</td>\n",
       "      <td>164.0</td>\n",
       "      <td>WR</td>\n",
       "      <td>1224007842931937280</td>\n",
       "    </tr>\n",
       "    <tr>\n",
       "      <th>1</th>\n",
       "      <td>2</td>\n",
       "      <td>1</td>\n",
       "      <td>0.0</td>\n",
       "      <td>1</td>\n",
       "      <td>2</td>\n",
       "      <td>2</td>\n",
       "      <td>1</td>\n",
       "      <td>1</td>\n",
       "      <td>1</td>\n",
       "      <td>2</td>\n",
       "      <td>...</td>\n",
       "      <td>32</td>\n",
       "      <td>150</td>\n",
       "      <td>69.0</td>\n",
       "      <td>164.0</td>\n",
       "      <td>116.0</td>\n",
       "      <td>68.0</td>\n",
       "      <td>17.0</td>\n",
       "      <td>164.0</td>\n",
       "      <td>WR</td>\n",
       "      <td>1224007842931937280</td>\n",
       "    </tr>\n",
       "    <tr>\n",
       "      <th>2</th>\n",
       "      <td>3</td>\n",
       "      <td>1</td>\n",
       "      <td>0.0</td>\n",
       "      <td>1</td>\n",
       "      <td>2</td>\n",
       "      <td>2</td>\n",
       "      <td>1</td>\n",
       "      <td>1</td>\n",
       "      <td>1</td>\n",
       "      <td>2</td>\n",
       "      <td>...</td>\n",
       "      <td>32</td>\n",
       "      <td>149</td>\n",
       "      <td>69.0</td>\n",
       "      <td>164.0</td>\n",
       "      <td>116.0</td>\n",
       "      <td>68.0</td>\n",
       "      <td>17.0</td>\n",
       "      <td>164.0</td>\n",
       "      <td>RB</td>\n",
       "      <td>1224007842931937280</td>\n",
       "    </tr>\n",
       "    <tr>\n",
       "      <th>3</th>\n",
       "      <td>4</td>\n",
       "      <td>1</td>\n",
       "      <td>0.0</td>\n",
       "      <td>1</td>\n",
       "      <td>2</td>\n",
       "      <td>2</td>\n",
       "      <td>1</td>\n",
       "      <td>1</td>\n",
       "      <td>1</td>\n",
       "      <td>2</td>\n",
       "      <td>...</td>\n",
       "      <td>32</td>\n",
       "      <td>148</td>\n",
       "      <td>69.0</td>\n",
       "      <td>154.0</td>\n",
       "      <td>116.0</td>\n",
       "      <td>68.0</td>\n",
       "      <td>17.0</td>\n",
       "      <td>154.0</td>\n",
       "      <td>RB</td>\n",
       "      <td>1224007842931937280</td>\n",
       "    </tr>\n",
       "    <tr>\n",
       "      <th>4</th>\n",
       "      <td>5</td>\n",
       "      <td>1</td>\n",
       "      <td>0.0</td>\n",
       "      <td>1</td>\n",
       "      <td>2</td>\n",
       "      <td>2</td>\n",
       "      <td>1</td>\n",
       "      <td>1</td>\n",
       "      <td>1</td>\n",
       "      <td>2</td>\n",
       "      <td>...</td>\n",
       "      <td>32</td>\n",
       "      <td>147</td>\n",
       "      <td>69.0</td>\n",
       "      <td>154.0</td>\n",
       "      <td>116.0</td>\n",
       "      <td>68.0</td>\n",
       "      <td>17.0</td>\n",
       "      <td>154.0</td>\n",
       "      <td>WR</td>\n",
       "      <td>1224007842931937280</td>\n",
       "    </tr>\n",
       "  </tbody>\n",
       "</table>\n",
       "<p>5 rows × 32 columns</p>\n",
       "</div>"
      ]
     },
     "execution_count": 2,
     "metadata": {},
     "output_type": "execute_result"
    }
   ],
   "execution_count": 2
  },
  {
   "metadata": {
    "ExecuteTime": {
     "end_time": "2025-05-19T18:26:50.618706Z",
     "start_time": "2025-05-19T18:26:50.598858Z"
    }
   },
   "cell_type": "code",
   "source": [
    "draft_data = all_draft_data[~all_draft_data['round'].isin([14, 15])].copy()\n",
    "draft_data.drop(columns=['k_need','k_available','k_vor','other_k_need','dst_available','dst_need','other_dst_need'            ], inplace=True)\n",
    "\n",
    "#draft_data.drop(columns=['qb_need', 'other_qb_need', 'qb_vor', 'qb_available'], inplace=True)\n",
    "#draft_data.drop(columns=['te_need', 'other_te_need', 'te_vor', 'te_available'], inplace=True)\n",
    "\n",
    "draft_data = draft_data[~draft_data['position_drafted'].isin(['QB', 'TE'])].copy()\n",
    "\n",
    "numeric_cols = [\n",
    "    'qb_need', 'other_qb_need', 'qb_vor', 'qb_available',\n",
    "    'rb_need', 'other_rb_need', 'rb_vor', 'rb_available',\n",
    "    'wr_need', 'other_wr_need', 'wr_vor', 'wr_available',\n",
    "    'te_need', 'other_te_need', 'te_vor', 'te_available',\n",
    "    'round', 'pick_no'\n",
    "]\n",
    "scaler = StandardScaler()\n",
    "draft_data[numeric_cols] = draft_data[numeric_cols].astype(float)\n",
    "draft_data['pick_no'] /= draft_data['pick_no'].max()\n",
    "draft_data.loc[:, numeric_cols] = scaler.fit_transform(draft_data[numeric_cols])\n",
    "\n",
    "le = LabelEncoder()\n",
    "draft_data['position_drafted_encoded'] = le.fit_transform(draft_data['position_drafted'])"
   ],
   "id": "8c45364a7c1dceb",
   "outputs": [],
   "execution_count": 3
  },
  {
   "metadata": {
    "ExecuteTime": {
     "end_time": "2025-05-19T18:26:54.108532Z",
     "start_time": "2025-05-19T18:26:54.084915Z"
    }
   },
   "cell_type": "code",
   "source": [
    "train_val, test = train_test_split(draft_data, test_size=0.2, random_state=42)\n",
    "train, val = train_test_split(train_val, test_size=0.25, random_state=42)\n",
    "X_train = train.drop(columns=['draft_id', 'position_drafted','position_drafted_encoded'])\n",
    "y_train = train['position_drafted_encoded']\n",
    "X_val = val.drop(columns=['draft_id', 'position_drafted','position_drafted_encoded'])\n",
    "y_val = val['position_drafted_encoded']\n",
    "X_test = test.drop(columns=['draft_id', 'position_drafted','position_drafted_encoded'])\n",
    "y_test = test['position_drafted_encoded']\n"
   ],
   "id": "92e8a8384194075e",
   "outputs": [],
   "execution_count": 4
  },
  {
   "metadata": {
    "ExecuteTime": {
     "end_time": "2025-05-19T18:26:54.402368Z",
     "start_time": "2025-05-19T18:26:54.398492Z"
    }
   },
   "cell_type": "code",
   "source": [
    "y_train = le.transform(train['position_drafted'])\n",
    "y_val = le.transform(val['position_drafted'])\n",
    "y_test = le.transform(test['position_drafted'])\n",
    "position_mapping = dict(enumerate(le.classes_))\n",
    "\n",
    "print(position_mapping)"
   ],
   "id": "d1eab4988fd0e91",
   "outputs": [
    {
     "name": "stdout",
     "output_type": "stream",
     "text": [
      "{0: 'RB', 1: 'WR'}\n"
     ]
    }
   ],
   "execution_count": 5
  },
  {
   "metadata": {
    "ExecuteTime": {
     "end_time": "2025-05-19T18:26:54.546374Z",
     "start_time": "2025-05-19T18:26:54.542245Z"
    }
   },
   "cell_type": "code",
   "source": [
    "print(f\"X Train Shape: {X_train.shape}\")\n",
    "print(f\"X Test Shape: {X_test.shape}\")\n",
    "print(f\"X Val Shape: {X_val.shape}\")\n",
    "print(f\"y Train Shape: {y_train.shape}\")\n",
    "print(f\"y Test Shape: {y_test.shape}\")\n",
    "print(f\"y Val Shape: {y_val.shape}\")"
   ],
   "id": "a81173b23c0d061",
   "outputs": [
    {
     "name": "stdout",
     "output_type": "stream",
     "text": [
      "X Train Shape: (1719, 23)\n",
      "X Test Shape: (574, 23)\n",
      "X Val Shape: (573, 23)\n",
      "y Train Shape: (1719,)\n",
      "y Test Shape: (574,)\n",
      "y Val Shape: (573,)\n"
     ]
    }
   ],
   "execution_count": 6
  },
  {
   "metadata": {
    "ExecuteTime": {
     "end_time": "2025-05-19T18:26:54.770452Z",
     "start_time": "2025-05-19T18:26:54.638064Z"
    }
   },
   "cell_type": "code",
   "source": [
    "model = keras.models.Sequential([\n",
    "    keras.layers.Input(shape=X_train.shape[1]),\n",
    "    keras.layers.Dense(512, activation='relu'),\n",
    "    keras.layers.Dense(256, activation='relu'),\n",
    "    keras.layers.Dense(128, activation='relu'),\n",
    "    keras.layers.Dense(64, activation='relu'),\n",
    "    keras.layers.Dense(len(position_mapping), activation='softmax')\n",
    "])"
   ],
   "id": "bd6cc79158b60ade",
   "outputs": [],
   "execution_count": 7
  },
  {
   "metadata": {
    "ExecuteTime": {
     "end_time": "2025-05-19T18:26:54.829539Z",
     "start_time": "2025-05-19T18:26:54.817135Z"
    }
   },
   "cell_type": "code",
   "source": [
    "\n",
    "model.compile(\n",
    "    loss=\"sparse_categorical_crossentropy\",\n",
    "    optimizer= \"adam\",\n",
    "    metrics=[\"accuracy\"]\n",
    ")\n"
   ],
   "id": "664aa29e2753a991",
   "outputs": [],
   "execution_count": 8
  },
  {
   "metadata": {
    "ExecuteTime": {
     "end_time": "2025-05-19T18:27:01.947523Z",
     "start_time": "2025-05-19T18:26:54.882173Z"
    }
   },
   "cell_type": "code",
   "source": [
    "history = model.fit(\n",
    "    X_train, y_train,\n",
    "    epochs=30,\n",
    "    validation_data=(X_val, y_val),\n",
    "    batch_size=15\n",
    ")"
   ],
   "id": "f350fc2f16dff035",
   "outputs": [
    {
     "name": "stdout",
     "output_type": "stream",
     "text": [
      "Epoch 1/30\n"
     ]
    },
    {
     "name": "stderr",
     "output_type": "stream",
     "text": [
      "2025-05-19 14:26:54.938154: W tensorflow/tsl/platform/profile_utils/cpu_utils.cc:128] Failed to get CPU frequency: 0 Hz\n"
     ]
    },
    {
     "name": "stdout",
     "output_type": "stream",
     "text": [
      "115/115 [==============================] - 1s 4ms/step - loss: 0.8889 - accuracy: 0.5404 - val_loss: 0.8244 - val_accuracy: 0.4747\n",
      "Epoch 2/30\n",
      "115/115 [==============================] - 0s 2ms/step - loss: 0.7263 - accuracy: 0.5311 - val_loss: 0.9072 - val_accuracy: 0.5253\n",
      "Epoch 3/30\n",
      "115/115 [==============================] - 0s 2ms/step - loss: 0.7033 - accuracy: 0.5358 - val_loss: 0.6946 - val_accuracy: 0.5061\n",
      "Epoch 4/30\n",
      "115/115 [==============================] - 0s 2ms/step - loss: 0.6916 - accuracy: 0.5486 - val_loss: 0.7206 - val_accuracy: 0.4747\n",
      "Epoch 5/30\n",
      "115/115 [==============================] - 0s 2ms/step - loss: 0.6860 - accuracy: 0.5689 - val_loss: 0.6954 - val_accuracy: 0.5253\n",
      "Epoch 6/30\n",
      "115/115 [==============================] - 0s 2ms/step - loss: 0.6830 - accuracy: 0.5486 - val_loss: 0.7077 - val_accuracy: 0.5445\n",
      "Epoch 7/30\n",
      "115/115 [==============================] - 0s 2ms/step - loss: 0.6833 - accuracy: 0.5596 - val_loss: 0.7092 - val_accuracy: 0.4956\n",
      "Epoch 8/30\n",
      "115/115 [==============================] - 0s 2ms/step - loss: 0.6846 - accuracy: 0.5695 - val_loss: 0.6916 - val_accuracy: 0.5113\n",
      "Epoch 9/30\n",
      "115/115 [==============================] - 0s 2ms/step - loss: 0.6848 - accuracy: 0.5538 - val_loss: 0.6949 - val_accuracy: 0.5253\n",
      "Epoch 10/30\n",
      "115/115 [==============================] - 0s 2ms/step - loss: 0.6799 - accuracy: 0.5649 - val_loss: 0.6923 - val_accuracy: 0.5462\n",
      "Epoch 11/30\n",
      "115/115 [==============================] - 0s 2ms/step - loss: 0.6789 - accuracy: 0.5556 - val_loss: 0.6895 - val_accuracy: 0.5009\n",
      "Epoch 12/30\n",
      "115/115 [==============================] - 0s 2ms/step - loss: 0.6852 - accuracy: 0.5404 - val_loss: 0.7275 - val_accuracy: 0.5253\n",
      "Epoch 13/30\n",
      "115/115 [==============================] - 0s 2ms/step - loss: 0.6841 - accuracy: 0.5480 - val_loss: 0.6887 - val_accuracy: 0.5148\n",
      "Epoch 14/30\n",
      "115/115 [==============================] - 0s 2ms/step - loss: 0.6820 - accuracy: 0.5654 - val_loss: 0.6949 - val_accuracy: 0.5148\n",
      "Epoch 15/30\n",
      "115/115 [==============================] - 0s 2ms/step - loss: 0.6852 - accuracy: 0.5358 - val_loss: 0.6935 - val_accuracy: 0.4747\n",
      "Epoch 16/30\n",
      "115/115 [==============================] - 0s 2ms/step - loss: 0.6854 - accuracy: 0.5526 - val_loss: 0.6910 - val_accuracy: 0.5253\n",
      "Epoch 17/30\n",
      "115/115 [==============================] - 0s 2ms/step - loss: 0.6802 - accuracy: 0.5602 - val_loss: 0.7138 - val_accuracy: 0.5253\n",
      "Epoch 18/30\n",
      "115/115 [==============================] - 0s 2ms/step - loss: 0.6826 - accuracy: 0.5596 - val_loss: 0.6886 - val_accuracy: 0.5253\n",
      "Epoch 19/30\n",
      "115/115 [==============================] - 0s 2ms/step - loss: 0.6818 - accuracy: 0.5602 - val_loss: 0.6873 - val_accuracy: 0.5253\n",
      "Epoch 20/30\n",
      "115/115 [==============================] - 0s 2ms/step - loss: 0.6834 - accuracy: 0.5515 - val_loss: 0.6868 - val_accuracy: 0.5532\n",
      "Epoch 21/30\n",
      "115/115 [==============================] - 0s 2ms/step - loss: 0.6831 - accuracy: 0.5550 - val_loss: 0.6870 - val_accuracy: 0.5253\n",
      "Epoch 22/30\n",
      "115/115 [==============================] - 0s 2ms/step - loss: 0.6884 - accuracy: 0.5590 - val_loss: 0.6919 - val_accuracy: 0.5253\n",
      "Epoch 23/30\n",
      "115/115 [==============================] - 0s 2ms/step - loss: 0.6871 - accuracy: 0.5602 - val_loss: 0.6930 - val_accuracy: 0.5253\n",
      "Epoch 24/30\n",
      "115/115 [==============================] - 0s 2ms/step - loss: 0.6865 - accuracy: 0.5602 - val_loss: 0.6944 - val_accuracy: 0.5253\n",
      "Epoch 25/30\n",
      "115/115 [==============================] - 0s 2ms/step - loss: 0.6860 - accuracy: 0.5602 - val_loss: 0.6939 - val_accuracy: 0.5253\n",
      "Epoch 26/30\n",
      "115/115 [==============================] - 0s 3ms/step - loss: 0.6862 - accuracy: 0.5602 - val_loss: 0.6938 - val_accuracy: 0.5253\n",
      "Epoch 27/30\n",
      "115/115 [==============================] - 0s 2ms/step - loss: 0.6862 - accuracy: 0.5602 - val_loss: 0.6940 - val_accuracy: 0.5253\n",
      "Epoch 28/30\n",
      "115/115 [==============================] - 0s 2ms/step - loss: 0.6861 - accuracy: 0.5602 - val_loss: 0.6949 - val_accuracy: 0.5253\n",
      "Epoch 29/30\n",
      "115/115 [==============================] - 0s 2ms/step - loss: 0.6861 - accuracy: 0.5602 - val_loss: 0.6946 - val_accuracy: 0.5253\n",
      "Epoch 30/30\n",
      "115/115 [==============================] - 0s 2ms/step - loss: 0.6863 - accuracy: 0.5602 - val_loss: 0.6943 - val_accuracy: 0.5253\n"
     ]
    }
   ],
   "execution_count": 9
  },
  {
   "metadata": {
    "ExecuteTime": {
     "end_time": "2025-05-19T18:27:02.235459Z",
     "start_time": "2025-05-19T18:27:01.971671Z"
    }
   },
   "cell_type": "code",
   "source": [
    "pd.DataFrame(history.history).plot(figsize=(15, 8))\n",
    "plt.grid(True)\n",
    "plt.gca().set_ylim(0, 1)\n",
    "plt.show()"
   ],
   "id": "78d4cfb01af72746",
   "outputs": [
    {
     "data": {
      "text/plain": [
       "<Figure size 1500x800 with 1 Axes>"
      ],
      "image/png": "[encoded data removed]"
     },
     "metadata": {},
     "output_type": "display_data"
    }
   ],
   "execution_count": 10
  },
  {
   "metadata": {
    "ExecuteTime": {
     "end_time": "2025-05-19T18:29:49.314738Z",
     "start_time": "2025-05-19T18:29:49.232446Z"
    }
   },
   "cell_type": "code",
   "source": [
    "y_pred = model.predict(X_test)\n",
    "y_pred_labels = y_pred.argmax(axis=1)\n",
    "\n",
    "# Calculate Cohen's Kappa\n",
    "kappa = cohen_kappa_score(y_test, y_pred_labels)\n",
    "print(f\"Cohen's Kappa:{kappa}\")"
   ],
   "id": "91df9585112fd117",
   "outputs": [
    {
     "name": "stdout",
     "output_type": "stream",
     "text": [
      "18/18 [==============================] - 0s 594us/step\n",
      "Cohen's Kappa:0.0\n"
     ]
    }
   ],
   "execution_count": 17
  },
  {
   "metadata": {
    "ExecuteTime": {
     "end_time": "2025-05-19T18:29:11.947987Z",
     "start_time": "2025-05-19T18:29:11.929478Z"
    }
   },
   "cell_type": "code",
   "source": [
    "print(pd.Series(draft_data['position_drafted_encoded']).value_counts())\n",
    "for idx, label in enumerate(le.classes_):\n",
    "    print(f\"{label}: {idx}\")"
   ],
   "id": "3f60aea9ba11d782",
   "outputs": [
    {
     "name": "stdout",
     "output_type": "stream",
     "text": [
      "position_drafted_encoded\n",
      "1    1581\n",
      "0    1285\n",
      "Name: count, dtype: int64\n",
      "RB: 0\n",
      "WR: 1\n"
     ]
    }
   ],
   "execution_count": 14
  },
  {
   "metadata": {
    "ExecuteTime": {
     "end_time": "2025-05-19T18:29:14.439438Z",
     "start_time": "2025-05-19T18:29:14.292058Z"
    }
   },
   "cell_type": "code",
   "source": [
    "xgb_model = xgb.XGBClassifier(eval_metric='mlogloss')\n",
    "xgb_model.fit(X_train, y_train)\n",
    "print(\"Validation accuracy:\", xgb_model.score(X_val, y_val))"
   ],
   "id": "d31c044bb1f2ddf7",
   "outputs": [
    {
     "name": "stdout",
     "output_type": "stream",
     "text": [
      "Validation accuracy: 0.6579406631762653\n"
     ]
    }
   ],
   "execution_count": 15
  },
  {
   "metadata": {
    "ExecuteTime": {
     "end_time": "2025-05-19T18:29:16.672545Z",
     "start_time": "2025-05-19T18:29:16.479340Z"
    }
   },
   "cell_type": "code",
   "source": [
    "rf = RandomForestClassifier(n_estimators=100, random_state=42)\n",
    "rf.fit(X_train, y_train)\n",
    "print(\"Validation accuracy:\", rf.score(X_val, y_val))"
   ],
   "id": "caf68091902e2431",
   "outputs": [
    {
     "name": "stdout",
     "output_type": "stream",
     "text": [
      "Validation accuracy: 0.631762652705061\n"
     ]
    }
   ],
   "execution_count": 16
  }
 ],
 "metadata": {
  "kernelspec": {
   "display_name": "Python 3",
   "language": "python",
   "name": "python3"
  },
  "language_info": {
   "codemirror_mode": {
    "name": "ipython",
    "version": 2
   },
   "file_extension": ".py",
   "mimetype": "text/x-python",
   "name": "python",
   "nbconvert_exporter": "python",
   "pygments_lexer": "ipython2",
   "version": "2.7.6"
  }
 },
 "nbformat": 4,
 "nbformat_minor": 5
}
