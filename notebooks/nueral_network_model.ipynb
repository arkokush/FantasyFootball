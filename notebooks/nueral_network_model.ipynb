{
 "cells": [
  {
   "metadata": {
    "ExecuteTime": {
     "end_time": "2025-05-22T17:11:40.567641Z",
     "start_time": "2025-05-22T17:11:17.133080Z"
    }
   },
   "cell_type": "code",
   "source": [
    "import tensorflow as tf\n",
    "from tensorflow import keras\n",
    "import matplotlib.pyplot as plt\n",
    "import pandas as pd\n",
    "import seaborn as sns\n",
    "from sklearn.preprocessing import StandardScaler, LabelEncoder, MinMaxScaler\n",
    "from sklearn.model_selection import train_test_split\n",
    "from imblearn.over_sampling import SMOTE\n",
    "from tensorflow.keras import layers, Model, Input\n",
    "from sklearn.ensemble import RandomForestClassifier\n",
    "import xgboost as xgb\n",
    "from sklearn.metrics import classification_report, cohen_kappa_score, balanced_accuracy_score\n",
    "from tensorflow.keras.callbacks import ModelCheckpoint, EarlyStopping\n",
    "from imblearn.over_sampling import SMOTE"
   ],
   "id": "715ca0a2f781ed09",
   "outputs": [],
   "execution_count": 1
  },
  {
   "metadata": {
    "ExecuteTime": {
     "end_time": "2025-05-22T17:11:40.689602Z",
     "start_time": "2025-05-22T17:11:40.601840Z"
    }
   },
   "cell_type": "code",
   "source": [
    "all_draft_data = pd.read_csv('../data/2025/all_draft_data.csv')\n",
    "all_draft_data.head()"
   ],
   "id": "7719b80c3dabc02d",
   "outputs": [
    {
     "data": {
      "text/plain": [
       "   pick_no  round  scoring_type  qb_need  rb_need  wr_need  te_need  k_need  \\\n",
       "0        1      1           0.0        1        2        2        1       1   \n",
       "1        2      1           0.0        1        2        2        1       1   \n",
       "2        3      1           0.0        1        2        2        1       1   \n",
       "3        4      1           0.0        1        2        2        1       1   \n",
       "4        5      1           0.0        1        2        2        1       1   \n",
       "\n",
       "   dst_need  flex_need  ...  dst_available  flex_available  qb_vor  rb_vor  \\\n",
       "0         1          2  ...             32             151    69.0   164.0   \n",
       "1         1          2  ...             32             150    69.0   164.0   \n",
       "2         1          2  ...             32             149    69.0   164.0   \n",
       "3         1          2  ...             32             148    69.0   154.0   \n",
       "4         1          2  ...             32             147    69.0   154.0   \n",
       "\n",
       "   wr_vor  te_vor  k_vor  flex_vor  position_drafted             draft_id  \n",
       "0   125.0    68.0   17.0     164.0                WR  1224007842931937280  \n",
       "1   116.0    68.0   17.0     164.0                WR  1224007842931937280  \n",
       "2   116.0    68.0   17.0     164.0                RB  1224007842931937280  \n",
       "3   116.0    68.0   17.0     154.0                RB  1224007842931937280  \n",
       "4   116.0    68.0   17.0     154.0                WR  1224007842931937280  \n",
       "\n",
       "[5 rows x 32 columns]"
      ],
      "text/html": [
       "<div>\n",
       "<style scoped>\n",
       "    .dataframe tbody tr th:only-of-type {\n",
       "        vertical-align: middle;\n",
       "    }\n",
       "\n",
       "    .dataframe tbody tr th {\n",
       "        vertical-align: top;\n",
       "    }\n",
       "\n",
       "    .dataframe thead th {\n",
       "        text-align: right;\n",
       "    }\n",
       "</style>\n",
       "<table border=\"1\" class=\"dataframe\">\n",
       "  <thead>\n",
       "    <tr style=\"text-align: right;\">\n",
       "      <th></th>\n",
       "      <th>pick_no</th>\n",
       "      <th>round</th>\n",
       "      <th>scoring_type</th>\n",
       "      <th>qb_need</th>\n",
       "      <th>rb_need</th>\n",
       "      <th>wr_need</th>\n",
       "      <th>te_need</th>\n",
       "      <th>k_need</th>\n",
       "      <th>dst_need</th>\n",
       "      <th>flex_need</th>\n",
       "      <th>...</th>\n",
       "      <th>dst_available</th>\n",
       "      <th>flex_available</th>\n",
       "      <th>qb_vor</th>\n",
       "      <th>rb_vor</th>\n",
       "      <th>wr_vor</th>\n",
       "      <th>te_vor</th>\n",
       "      <th>k_vor</th>\n",
       "      <th>flex_vor</th>\n",
       "      <th>position_drafted</th>\n",
       "      <th>draft_id</th>\n",
       "    </tr>\n",
       "  </thead>\n",
       "  <tbody>\n",
       "    <tr>\n",
       "      <th>0</th>\n",
       "      <td>1</td>\n",
       "      <td>1</td>\n",
       "      <td>0.0</td>\n",
       "      <td>1</td>\n",
       "      <td>2</td>\n",
       "      <td>2</td>\n",
       "      <td>1</td>\n",
       "      <td>1</td>\n",
       "      <td>1</td>\n",
       "      <td>2</td>\n",
       "      <td>...</td>\n",
       "      <td>32</td>\n",
       "      <td>151</td>\n",
       "      <td>69.0</td>\n",
       "      <td>164.0</td>\n",
       "      <td>125.0</td>\n",
       "      <td>68.0</td>\n",
       "      <td>17.0</td>\n",
       "      <td>164.0</td>\n",
       "      <td>WR</td>\n",
       "      <td>1224007842931937280</td>\n",
       "    </tr>\n",
       "    <tr>\n",
       "      <th>1</th>\n",
       "      <td>2</td>\n",
       "      <td>1</td>\n",
       "      <td>0.0</td>\n",
       "      <td>1</td>\n",
       "      <td>2</td>\n",
       "      <td>2</td>\n",
       "      <td>1</td>\n",
       "      <td>1</td>\n",
       "      <td>1</td>\n",
       "      <td>2</td>\n",
       "      <td>...</td>\n",
       "      <td>32</td>\n",
       "      <td>150</td>\n",
       "      <td>69.0</td>\n",
       "      <td>164.0</td>\n",
       "      <td>116.0</td>\n",
       "      <td>68.0</td>\n",
       "      <td>17.0</td>\n",
       "      <td>164.0</td>\n",
       "      <td>WR</td>\n",
       "      <td>1224007842931937280</td>\n",
       "    </tr>\n",
       "    <tr>\n",
       "      <th>2</th>\n",
       "      <td>3</td>\n",
       "      <td>1</td>\n",
       "      <td>0.0</td>\n",
       "      <td>1</td>\n",
       "      <td>2</td>\n",
       "      <td>2</td>\n",
       "      <td>1</td>\n",
       "      <td>1</td>\n",
       "      <td>1</td>\n",
       "      <td>2</td>\n",
       "      <td>...</td>\n",
       "      <td>32</td>\n",
       "      <td>149</td>\n",
       "      <td>69.0</td>\n",
       "      <td>164.0</td>\n",
       "      <td>116.0</td>\n",
       "      <td>68.0</td>\n",
       "      <td>17.0</td>\n",
       "      <td>164.0</td>\n",
       "      <td>RB</td>\n",
       "      <td>1224007842931937280</td>\n",
       "    </tr>\n",
       "    <tr>\n",
       "      <th>3</th>\n",
       "      <td>4</td>\n",
       "      <td>1</td>\n",
       "      <td>0.0</td>\n",
       "      <td>1</td>\n",
       "      <td>2</td>\n",
       "      <td>2</td>\n",
       "      <td>1</td>\n",
       "      <td>1</td>\n",
       "      <td>1</td>\n",
       "      <td>2</td>\n",
       "      <td>...</td>\n",
       "      <td>32</td>\n",
       "      <td>148</td>\n",
       "      <td>69.0</td>\n",
       "      <td>154.0</td>\n",
       "      <td>116.0</td>\n",
       "      <td>68.0</td>\n",
       "      <td>17.0</td>\n",
       "      <td>154.0</td>\n",
       "      <td>RB</td>\n",
       "      <td>1224007842931937280</td>\n",
       "    </tr>\n",
       "    <tr>\n",
       "      <th>4</th>\n",
       "      <td>5</td>\n",
       "      <td>1</td>\n",
       "      <td>0.0</td>\n",
       "      <td>1</td>\n",
       "      <td>2</td>\n",
       "      <td>2</td>\n",
       "      <td>1</td>\n",
       "      <td>1</td>\n",
       "      <td>1</td>\n",
       "      <td>2</td>\n",
       "      <td>...</td>\n",
       "      <td>32</td>\n",
       "      <td>147</td>\n",
       "      <td>69.0</td>\n",
       "      <td>154.0</td>\n",
       "      <td>116.0</td>\n",
       "      <td>68.0</td>\n",
       "      <td>17.0</td>\n",
       "      <td>154.0</td>\n",
       "      <td>WR</td>\n",
       "      <td>1224007842931937280</td>\n",
       "    </tr>\n",
       "  </tbody>\n",
       "</table>\n",
       "<p>5 rows × 32 columns</p>\n",
       "</div>"
      ]
     },
     "execution_count": 2,
     "metadata": {},
     "output_type": "execute_result"
    }
   ],
   "execution_count": 2
  },
  {
   "metadata": {
    "ExecuteTime": {
     "end_time": "2025-05-22T17:15:54.674639Z",
     "start_time": "2025-05-22T17:15:54.625061Z"
    }
   },
   "cell_type": "code",
   "source": [
    "draft_data = all_draft_data[~all_draft_data['round'].isin([14, 15])].copy()\n",
    "\n",
    "draft_data.drop(columns=['k_need','k_available','k_vor','other_k_need','dst_available','dst_need','other_dst_need'            ], inplace=True)\n",
    "draft_data.drop(columns=['draft_id'], inplace=True)\n",
    "draft_data.drop(columns=['scoring_type'], inplace=True)\n",
    "#draft_data.drop(columns=['pick_no'], inplace=True)\n",
    "#draft_data.drop(columns=['qb_need', 'other_qb_need', 'qb_vor', 'qb_available'], inplace=True)\n",
    "#draft_data.drop(columns=['te_need', 'other_te_need', 'te_vor', 'te_available'], inplace=True)\n",
    "#draft_data.drop(columns=['other_qb_need', 'other_rb_need', 'other_wr_need', 'other_te_need', 'other_flex_need'], inplace=True)\n",
    "#draft_data.drop(columns=['qb_available', 'rb_available', 'wr_available', 'te_available', 'flex_available'], inplace=True)\n",
    "#draft_data = draft_data[~draft_data['position_drafted'].isin(['QB', 'TE'])].copy()\n",
    "\n",
    "bounded_cols = [\n",
    "    'pick_no','round',\n",
    "    'qb_need', 'rb_need', 'wr_need', 'te_need', 'flex_need',\n",
    "   'other_qb_need', 'other_rb_need', 'other_wr_need', 'other_te_need', 'other_flex_need',\n",
    "    'qb_available', 'rb_available', 'wr_available', 'te_available', 'flex_available'\n",
    "]\n",
    "vor_cols = ['qb_vor', 'rb_vor', 'wr_vor', 'te_vor', 'flex_vor']\n",
    "\n",
    "draft_data[bounded_cols + vor_cols] = draft_data[bounded_cols + vor_cols].astype(float)\n",
    "\n",
    "minmax_scaler = MinMaxScaler()\n",
    "draft_data[bounded_cols] = minmax_scaler.fit_transform(draft_data[bounded_cols])\n",
    "\n",
    "std_scaler = StandardScaler()\n",
    "draft_data[vor_cols] = std_scaler.fit_transform(draft_data[vor_cols])\n",
    "\n",
    "#draft_data.drop(columns=['flex_vor', 'other_flex_need', 'flex_available','flex_need'], inplace=True)\n",
    "\n",
    "le = LabelEncoder()\n",
    "draft_data['position_drafted_encoded'] = le.fit_transform(draft_data['position_drafted'])"
   ],
   "id": "ecbeed41ca3a33ce",
   "outputs": [],
   "execution_count": 30
  },
  {
   "metadata": {
    "ExecuteTime": {
     "end_time": "2025-05-22T17:15:54.720029Z",
     "start_time": "2025-05-22T17:15:54.708919Z"
    }
   },
   "cell_type": "code",
   "source": "draft_data.head()",
   "id": "a85ea3f461e239de",
   "outputs": [
    {
     "data": {
      "text/plain": [
       "    pick_no  round  qb_need  rb_need  wr_need  te_need  flex_need  \\\n",
       "0  0.000000    0.0      1.0      1.0      1.0      1.0        1.0   \n",
       "1  0.007752    0.0      1.0      1.0      1.0      1.0        1.0   \n",
       "2  0.015504    0.0      1.0      1.0      1.0      1.0        1.0   \n",
       "3  0.023256    0.0      1.0      1.0      1.0      1.0        1.0   \n",
       "4  0.031008    0.0      1.0      1.0      1.0      1.0        1.0   \n",
       "\n",
       "   other_qb_need  other_rb_need  other_wr_need  ...  wr_available  \\\n",
       "0            1.0       1.000000       1.000000  ...      1.000000   \n",
       "1            1.0       1.000000       0.944444  ...      0.979167   \n",
       "2            1.0       1.000000       0.888889  ...      0.958333   \n",
       "3            1.0       0.944444       0.888889  ...      0.958333   \n",
       "4            1.0       0.888889       0.888889  ...      0.958333   \n",
       "\n",
       "   te_available  flex_available   qb_vor    rb_vor    wr_vor    te_vor  \\\n",
       "0           1.0        1.000000  1.32178  1.851562  1.754548  0.381691   \n",
       "1           1.0        0.989899  1.32178  1.851562  1.434085  0.381691   \n",
       "2           1.0        0.979798  1.32178  1.851562  1.434085  0.381691   \n",
       "3           1.0        0.969697  1.32178  1.591117  1.434085  0.381691   \n",
       "4           1.0        0.959596  1.32178  1.591117  1.434085  0.381691   \n",
       "\n",
       "   flex_vor  position_drafted  position_drafted_encoded  \n",
       "0  1.840784                WR                         3  \n",
       "1  1.840784                WR                         3  \n",
       "2  1.840784                RB                         1  \n",
       "3  1.580863                RB                         1  \n",
       "4  1.580863                WR                         3  \n",
       "\n",
       "[5 rows x 24 columns]"
      ],
      "text/html": [
       "<div>\n",
       "<style scoped>\n",
       "    .dataframe tbody tr th:only-of-type {\n",
       "        vertical-align: middle;\n",
       "    }\n",
       "\n",
       "    .dataframe tbody tr th {\n",
       "        vertical-align: top;\n",
       "    }\n",
       "\n",
       "    .dataframe thead th {\n",
       "        text-align: right;\n",
       "    }\n",
       "</style>\n",
       "<table border=\"1\" class=\"dataframe\">\n",
       "  <thead>\n",
       "    <tr style=\"text-align: right;\">\n",
       "      <th></th>\n",
       "      <th>pick_no</th>\n",
       "      <th>round</th>\n",
       "      <th>qb_need</th>\n",
       "      <th>rb_need</th>\n",
       "      <th>wr_need</th>\n",
       "      <th>te_need</th>\n",
       "      <th>flex_need</th>\n",
       "      <th>other_qb_need</th>\n",
       "      <th>other_rb_need</th>\n",
       "      <th>other_wr_need</th>\n",
       "      <th>...</th>\n",
       "      <th>wr_available</th>\n",
       "      <th>te_available</th>\n",
       "      <th>flex_available</th>\n",
       "      <th>qb_vor</th>\n",
       "      <th>rb_vor</th>\n",
       "      <th>wr_vor</th>\n",
       "      <th>te_vor</th>\n",
       "      <th>flex_vor</th>\n",
       "      <th>position_drafted</th>\n",
       "      <th>position_drafted_encoded</th>\n",
       "    </tr>\n",
       "  </thead>\n",
       "  <tbody>\n",
       "    <tr>\n",
       "      <th>0</th>\n",
       "      <td>0.000000</td>\n",
       "      <td>0.0</td>\n",
       "      <td>1.0</td>\n",
       "      <td>1.0</td>\n",
       "      <td>1.0</td>\n",
       "      <td>1.0</td>\n",
       "      <td>1.0</td>\n",
       "      <td>1.0</td>\n",
       "      <td>1.000000</td>\n",
       "      <td>1.000000</td>\n",
       "      <td>...</td>\n",
       "      <td>1.000000</td>\n",
       "      <td>1.0</td>\n",
       "      <td>1.000000</td>\n",
       "      <td>1.32178</td>\n",
       "      <td>1.851562</td>\n",
       "      <td>1.754548</td>\n",
       "      <td>0.381691</td>\n",
       "      <td>1.840784</td>\n",
       "      <td>WR</td>\n",
       "      <td>3</td>\n",
       "    </tr>\n",
       "    <tr>\n",
       "      <th>1</th>\n",
       "      <td>0.007752</td>\n",
       "      <td>0.0</td>\n",
       "      <td>1.0</td>\n",
       "      <td>1.0</td>\n",
       "      <td>1.0</td>\n",
       "      <td>1.0</td>\n",
       "      <td>1.0</td>\n",
       "      <td>1.0</td>\n",
       "      <td>1.000000</td>\n",
       "      <td>0.944444</td>\n",
       "      <td>...</td>\n",
       "      <td>0.979167</td>\n",
       "      <td>1.0</td>\n",
       "      <td>0.989899</td>\n",
       "      <td>1.32178</td>\n",
       "      <td>1.851562</td>\n",
       "      <td>1.434085</td>\n",
       "      <td>0.381691</td>\n",
       "      <td>1.840784</td>\n",
       "      <td>WR</td>\n",
       "      <td>3</td>\n",
       "    </tr>\n",
       "    <tr>\n",
       "      <th>2</th>\n",
       "      <td>0.015504</td>\n",
       "      <td>0.0</td>\n",
       "      <td>1.0</td>\n",
       "      <td>1.0</td>\n",
       "      <td>1.0</td>\n",
       "      <td>1.0</td>\n",
       "      <td>1.0</td>\n",
       "      <td>1.0</td>\n",
       "      <td>1.000000</td>\n",
       "      <td>0.888889</td>\n",
       "      <td>...</td>\n",
       "      <td>0.958333</td>\n",
       "      <td>1.0</td>\n",
       "      <td>0.979798</td>\n",
       "      <td>1.32178</td>\n",
       "      <td>1.851562</td>\n",
       "      <td>1.434085</td>\n",
       "      <td>0.381691</td>\n",
       "      <td>1.840784</td>\n",
       "      <td>RB</td>\n",
       "      <td>1</td>\n",
       "    </tr>\n",
       "    <tr>\n",
       "      <th>3</th>\n",
       "      <td>0.023256</td>\n",
       "      <td>0.0</td>\n",
       "      <td>1.0</td>\n",
       "      <td>1.0</td>\n",
       "      <td>1.0</td>\n",
       "      <td>1.0</td>\n",
       "      <td>1.0</td>\n",
       "      <td>1.0</td>\n",
       "      <td>0.944444</td>\n",
       "      <td>0.888889</td>\n",
       "      <td>...</td>\n",
       "      <td>0.958333</td>\n",
       "      <td>1.0</td>\n",
       "      <td>0.969697</td>\n",
       "      <td>1.32178</td>\n",
       "      <td>1.591117</td>\n",
       "      <td>1.434085</td>\n",
       "      <td>0.381691</td>\n",
       "      <td>1.580863</td>\n",
       "      <td>RB</td>\n",
       "      <td>1</td>\n",
       "    </tr>\n",
       "    <tr>\n",
       "      <th>4</th>\n",
       "      <td>0.031008</td>\n",
       "      <td>0.0</td>\n",
       "      <td>1.0</td>\n",
       "      <td>1.0</td>\n",
       "      <td>1.0</td>\n",
       "      <td>1.0</td>\n",
       "      <td>1.0</td>\n",
       "      <td>1.0</td>\n",
       "      <td>0.888889</td>\n",
       "      <td>0.888889</td>\n",
       "      <td>...</td>\n",
       "      <td>0.958333</td>\n",
       "      <td>1.0</td>\n",
       "      <td>0.959596</td>\n",
       "      <td>1.32178</td>\n",
       "      <td>1.591117</td>\n",
       "      <td>1.434085</td>\n",
       "      <td>0.381691</td>\n",
       "      <td>1.580863</td>\n",
       "      <td>WR</td>\n",
       "      <td>3</td>\n",
       "    </tr>\n",
       "  </tbody>\n",
       "</table>\n",
       "<p>5 rows × 24 columns</p>\n",
       "</div>"
      ]
     },
     "execution_count": 31,
     "metadata": {},
     "output_type": "execute_result"
    }
   ],
   "execution_count": 31
  },
  {
   "metadata": {
    "ExecuteTime": {
     "end_time": "2025-05-22T17:15:54.786576Z",
     "start_time": "2025-05-22T17:15:54.775999Z"
    }
   },
   "cell_type": "code",
   "source": [
    "train_val, test = train_test_split(draft_data, test_size=0.2, random_state=42)\n",
    "train, val = train_test_split(train_val, test_size=0.25, random_state=42)\n",
    "X_train = train.drop(columns=[ 'position_drafted','position_drafted_encoded'])\n",
    "y_train = train['position_drafted_encoded']\n",
    "X_val = val.drop(columns=['position_drafted','position_drafted_encoded'])\n",
    "y_val = val['position_drafted_encoded']\n",
    "X_test = test.drop(columns=[ 'position_drafted','position_drafted_encoded'])\n",
    "y_test = test['position_drafted_encoded']\n"
   ],
   "id": "1c58a19f598f2be5",
   "outputs": [],
   "execution_count": 32
  },
  {
   "metadata": {
    "ExecuteTime": {
     "end_time": "2025-05-22T17:15:54.863570Z",
     "start_time": "2025-05-22T17:15:54.844157Z"
    }
   },
   "cell_type": "code",
   "source": [
    "y_train = le.transform(train['position_drafted'])\n",
    "y_val = le.transform(val['position_drafted'])\n",
    "y_test = le.transform(test['position_drafted'])\n",
    "position_mapping = dict(enumerate(le.classes_))\n",
    "smote = SMOTE(random_state=42)\n",
    "X_train, y_train = smote.fit_resample(X_train, y_train)\n",
    "print(position_mapping)"
   ],
   "id": "c603e29cb885402b",
   "outputs": [
    {
     "name": "stdout",
     "output_type": "stream",
     "text": [
      "{0: 'QB', 1: 'RB', 2: 'TE', 3: 'WR'}\n"
     ]
    }
   ],
   "execution_count": 33
  },
  {
   "metadata": {
    "ExecuteTime": {
     "end_time": "2025-05-22T17:15:54.947109Z",
     "start_time": "2025-05-22T17:15:54.944254Z"
    }
   },
   "cell_type": "code",
   "source": [
    "print(f\"X Train Shape: {X_train.shape}\")\n",
    "print(f\"X Test Shape: {X_test.shape}\")\n",
    "print(f\"X Val Shape: {X_val.shape}\")\n",
    "print(f\"y Train Shape: {y_train.shape}\")\n",
    "print(f\"y Test Shape: {y_test.shape}\")\n",
    "print(f\"y Val Shape: {y_val.shape}\")"
   ],
   "id": "ead1e80059161f3b",
   "outputs": [
    {
     "name": "stdout",
     "output_type": "stream",
     "text": [
      "X Train Shape: (3892, 22)\n",
      "X Test Shape: (780, 22)\n",
      "X Val Shape: (780, 22)\n",
      "y Train Shape: (3892,)\n",
      "y Test Shape: (780,)\n",
      "y Val Shape: (780,)\n"
     ]
    }
   ],
   "execution_count": 34
  },
  {
   "metadata": {
    "ExecuteTime": {
     "end_time": "2025-05-22T17:15:54.995802Z",
     "start_time": "2025-05-22T17:15:54.993050Z"
    }
   },
   "cell_type": "code",
   "source": [
    "class_counts = pd.Series(y_train).value_counts()\n",
    "print(class_counts)"
   ],
   "id": "4841a14376beab09",
   "outputs": [
    {
     "name": "stdout",
     "output_type": "stream",
     "text": [
      "1    973\n",
      "2    973\n",
      "3    973\n",
      "0    973\n",
      "Name: count, dtype: int64\n"
     ]
    }
   ],
   "execution_count": 35
  },
  {
   "metadata": {
    "ExecuteTime": {
     "end_time": "2025-05-22T17:15:55.119255Z",
     "start_time": "2025-05-22T17:15:55.037509Z"
    }
   },
   "cell_type": "code",
   "source": [
    "from tensorflow.keras import layers, Model, Input\n",
    "\n",
    "inputs = Input(shape=(X_train.shape[1],))\n",
    "\n",
    "x1 = layers.Dense(1028)(inputs)\n",
    "x1 = layers.LeakyReLU()(x1)\n",
    "x1 = layers.LayerNormalization()(x1)\n",
    "x1 = layers.Dropout(0.2)(x1)\n",
    "\n",
    "x2 = layers.Dense(512)(x1)\n",
    "x2 = layers.LeakyReLU()(x2)\n",
    "x2 = layers.LayerNormalization()(x2)\n",
    "x2 = layers.Dropout(0.2)(x2)\n",
    "\n",
    "x3 = layers.Dense(256)(x2)\n",
    "x3 = layers.LeakyReLU()(x3)\n",
    "x3 = layers.LayerNormalization()(x3)\n",
    "x3 = layers.Dropout(0.2)(x3)\n",
    "\n",
    "x4 = layers.Dense(128)(x3)\n",
    "x4 = layers.LeakyReLU()(x4)\n",
    "x4 = layers.LayerNormalization()(x4)\n",
    "x4 = layers.Dropout(0.2)(x4)\n",
    "\n",
    "concat = layers.Concatenate()([inputs, x1, x2, x3, x4])\n",
    "\n",
    "outputs = layers.Dense(len(position_mapping), activation='softmax')(concat)\n",
    "\n",
    "model = Model(inputs, outputs)\n",
    "model.compile(\n",
    "    loss=\"sparse_categorical_crossentropy\",\n",
    "    optimizer=\"adam\",\n",
    "    metrics=[\"accuracy\"]\n",
    ")"
   ],
   "id": "7d515ab928188b39",
   "outputs": [],
   "execution_count": 36
  },
  {
   "metadata": {
    "ExecuteTime": {
     "end_time": "2025-05-22T17:16:34.511376Z",
     "start_time": "2025-05-22T17:15:55.153777Z"
    }
   },
   "cell_type": "code",
   "source": [
    "checkpoint = ModelCheckpoint(\n",
    "    filepath='best_model.weights.h5',\n",
    "    monitor='val_loss',\n",
    "    save_best_only=True,\n",
    "    save_weights_only=True,\n",
    "    restore_best_weights=True,\n",
    "    verbose=1\n",
    ")\n",
    "\n",
    "history = model.fit(\n",
    "    X_train, y_train,\n",
    "    epochs=40,\n",
    "    validation_data=(X_val, y_val),\n",
    "    batch_size=32,\n",
    "    callbacks=[checkpoint]\n",
    ")"
   ],
   "id": "c2f3ab069809b0b1",
   "outputs": [
    {
     "name": "stdout",
     "output_type": "stream",
     "text": [
      "Epoch 1/40\n",
      "119/122 [============================>.] - ETA: 0s - loss: 1.5176 - accuracy: 0.4086\n",
      "Epoch 1: val_loss improved from inf to 1.64146, saving model to best_model.weights.h5\n",
      "122/122 [==============================] - 2s 9ms/step - loss: 1.5119 - accuracy: 0.4085 - val_loss: 1.6415 - val_accuracy: 0.4038\n",
      "Epoch 2/40\n",
      "116/122 [===========================>..] - ETA: 0s - loss: 1.2924 - accuracy: 0.4491\n",
      "Epoch 2: val_loss improved from 1.64146 to 1.20022, saving model to best_model.weights.h5\n",
      "122/122 [==============================] - 1s 8ms/step - loss: 1.2892 - accuracy: 0.4496 - val_loss: 1.2002 - val_accuracy: 0.4141\n",
      "Epoch 3/40\n",
      "121/122 [============================>.] - ETA: 0s - loss: 1.2224 - accuracy: 0.4576\n",
      "Epoch 3: val_loss improved from 1.20022 to 1.18823, saving model to best_model.weights.h5\n",
      "122/122 [==============================] - 1s 8ms/step - loss: 1.2222 - accuracy: 0.4579 - val_loss: 1.1882 - val_accuracy: 0.4423\n",
      "Epoch 4/40\n",
      "119/122 [============================>.] - ETA: 0s - loss: 1.2160 - accuracy: 0.4569\n",
      "Epoch 4: val_loss did not improve from 1.18823\n",
      "122/122 [==============================] - 1s 12ms/step - loss: 1.2200 - accuracy: 0.4555 - val_loss: 1.3265 - val_accuracy: 0.4218\n",
      "Epoch 5/40\n",
      "119/122 [============================>.] - ETA: 0s - loss: 1.1425 - accuracy: 0.4745\n",
      "Epoch 5: val_loss did not improve from 1.18823\n",
      "122/122 [==============================] - 1s 8ms/step - loss: 1.1419 - accuracy: 0.4746 - val_loss: 1.1908 - val_accuracy: 0.4564\n",
      "Epoch 6/40\n",
      "119/122 [============================>.] - ETA: 0s - loss: 1.1394 - accuracy: 0.4764\n",
      "Epoch 6: val_loss improved from 1.18823 to 1.11380, saving model to best_model.weights.h5\n",
      "122/122 [==============================] - 1s 8ms/step - loss: 1.1418 - accuracy: 0.4751 - val_loss: 1.1138 - val_accuracy: 0.4295\n",
      "Epoch 7/40\n",
      "117/122 [===========================>..] - ETA: 0s - loss: 1.1654 - accuracy: 0.4776\n",
      "Epoch 7: val_loss did not improve from 1.11380\n",
      "122/122 [==============================] - 1s 8ms/step - loss: 1.1638 - accuracy: 0.4800 - val_loss: 1.1689 - val_accuracy: 0.4372\n",
      "Epoch 8/40\n",
      "117/122 [===========================>..] - ETA: 0s - loss: 1.0983 - accuracy: 0.4928\n",
      "Epoch 8: val_loss improved from 1.11380 to 1.05456, saving model to best_model.weights.h5\n",
      "122/122 [==============================] - 1s 8ms/step - loss: 1.0992 - accuracy: 0.4933 - val_loss: 1.0546 - val_accuracy: 0.4859\n",
      "Epoch 9/40\n",
      "119/122 [============================>.] - ETA: 0s - loss: 1.0900 - accuracy: 0.4898\n",
      "Epoch 9: val_loss did not improve from 1.05456\n",
      "122/122 [==============================] - 1s 8ms/step - loss: 1.0910 - accuracy: 0.4895 - val_loss: 1.1112 - val_accuracy: 0.4769\n",
      "Epoch 10/40\n",
      "118/122 [============================>.] - ETA: 0s - loss: 1.0537 - accuracy: 0.5101\n",
      "Epoch 10: val_loss did not improve from 1.05456\n",
      "122/122 [==============================] - 1s 8ms/step - loss: 1.0553 - accuracy: 0.5090 - val_loss: 1.3304 - val_accuracy: 0.3833\n",
      "Epoch 11/40\n",
      "116/122 [===========================>..] - ETA: 0s - loss: 1.0763 - accuracy: 0.5062\n",
      "Epoch 11: val_loss did not improve from 1.05456\n",
      "122/122 [==============================] - 1s 8ms/step - loss: 1.0714 - accuracy: 0.5098 - val_loss: 1.1043 - val_accuracy: 0.5000\n",
      "Epoch 12/40\n",
      "118/122 [============================>.] - ETA: 0s - loss: 1.0446 - accuracy: 0.5217\n",
      "Epoch 12: val_loss improved from 1.05456 to 1.04575, saving model to best_model.weights.h5\n",
      "122/122 [==============================] - 1s 8ms/step - loss: 1.0472 - accuracy: 0.5188 - val_loss: 1.0457 - val_accuracy: 0.4885\n",
      "Epoch 13/40\n",
      "122/122 [==============================] - ETA: 0s - loss: 1.0532 - accuracy: 0.5218\n",
      "Epoch 13: val_loss did not improve from 1.04575\n",
      "122/122 [==============================] - 1s 8ms/step - loss: 1.0532 - accuracy: 0.5218 - val_loss: 1.1091 - val_accuracy: 0.4859\n",
      "Epoch 14/40\n",
      "116/122 [===========================>..] - ETA: 0s - loss: 1.0041 - accuracy: 0.5409\n",
      "Epoch 14: val_loss did not improve from 1.04575\n",
      "122/122 [==============================] - 1s 8ms/step - loss: 1.0052 - accuracy: 0.5398 - val_loss: 1.0880 - val_accuracy: 0.4628\n",
      "Epoch 15/40\n",
      "119/122 [============================>.] - ETA: 0s - loss: 1.0249 - accuracy: 0.5312\n",
      "Epoch 15: val_loss did not improve from 1.04575\n",
      "122/122 [==============================] - 1s 7ms/step - loss: 1.0244 - accuracy: 0.5321 - val_loss: 1.1399 - val_accuracy: 0.4167\n",
      "Epoch 16/40\n",
      "122/122 [==============================] - ETA: 0s - loss: 1.0119 - accuracy: 0.5385\n",
      "Epoch 16: val_loss did not improve from 1.04575\n",
      "122/122 [==============================] - 1s 7ms/step - loss: 1.0119 - accuracy: 0.5385 - val_loss: 1.0518 - val_accuracy: 0.5064\n",
      "Epoch 17/40\n",
      "122/122 [==============================] - ETA: 0s - loss: 1.0128 - accuracy: 0.5275\n",
      "Epoch 17: val_loss did not improve from 1.04575\n",
      "122/122 [==============================] - 1s 7ms/step - loss: 1.0128 - accuracy: 0.5275 - val_loss: 1.2157 - val_accuracy: 0.4064\n",
      "Epoch 18/40\n",
      "120/122 [============================>.] - ETA: 0s - loss: 0.9948 - accuracy: 0.5448\n",
      "Epoch 18: val_loss improved from 1.04575 to 1.04054, saving model to best_model.weights.h5\n",
      "122/122 [==============================] - 1s 7ms/step - loss: 0.9963 - accuracy: 0.5439 - val_loss: 1.0405 - val_accuracy: 0.4782\n",
      "Epoch 19/40\n",
      "119/122 [============================>.] - ETA: 0s - loss: 0.9851 - accuracy: 0.5499\n",
      "Epoch 19: val_loss improved from 1.04054 to 1.02816, saving model to best_model.weights.h5\n",
      "122/122 [==============================] - 1s 8ms/step - loss: 0.9854 - accuracy: 0.5486 - val_loss: 1.0282 - val_accuracy: 0.4949\n",
      "Epoch 20/40\n",
      "121/122 [============================>.] - ETA: 0s - loss: 1.0077 - accuracy: 0.5315\n",
      "Epoch 20: val_loss did not improve from 1.02816\n",
      "122/122 [==============================] - 1s 7ms/step - loss: 1.0085 - accuracy: 0.5308 - val_loss: 1.0610 - val_accuracy: 0.4846\n",
      "Epoch 21/40\n",
      "118/122 [============================>.] - ETA: 0s - loss: 0.9814 - accuracy: 0.5503\n",
      "Epoch 21: val_loss did not improve from 1.02816\n",
      "122/122 [==============================] - 1s 7ms/step - loss: 0.9782 - accuracy: 0.5506 - val_loss: 1.1493 - val_accuracy: 0.4500\n",
      "Epoch 22/40\n",
      "121/122 [============================>.] - ETA: 0s - loss: 0.9672 - accuracy: 0.5452\n",
      "Epoch 22: val_loss did not improve from 1.02816\n",
      "122/122 [==============================] - 1s 7ms/step - loss: 0.9671 - accuracy: 0.5452 - val_loss: 1.1497 - val_accuracy: 0.4385\n",
      "Epoch 23/40\n",
      "121/122 [============================>.] - ETA: 0s - loss: 0.9569 - accuracy: 0.5576\n",
      "Epoch 23: val_loss did not improve from 1.02816\n",
      "122/122 [==============================] - 1s 7ms/step - loss: 0.9564 - accuracy: 0.5576 - val_loss: 1.0890 - val_accuracy: 0.5038\n",
      "Epoch 24/40\n",
      "117/122 [===========================>..] - ETA: 0s - loss: 0.9808 - accuracy: 0.5548\n",
      "Epoch 24: val_loss did not improve from 1.02816\n",
      "122/122 [==============================] - 1s 7ms/step - loss: 0.9797 - accuracy: 0.5550 - val_loss: 1.0517 - val_accuracy: 0.4949\n",
      "Epoch 25/40\n",
      "116/122 [===========================>..] - ETA: 0s - loss: 0.9472 - accuracy: 0.5714\n",
      "Epoch 25: val_loss did not improve from 1.02816\n",
      "122/122 [==============================] - 1s 7ms/step - loss: 0.9538 - accuracy: 0.5683 - val_loss: 1.0703 - val_accuracy: 0.4551\n",
      "Epoch 26/40\n",
      "119/122 [============================>.] - ETA: 0s - loss: 0.9585 - accuracy: 0.5567\n",
      "Epoch 26: val_loss did not improve from 1.02816\n",
      "122/122 [==============================] - 1s 7ms/step - loss: 0.9587 - accuracy: 0.5570 - val_loss: 1.0783 - val_accuracy: 0.4872\n",
      "Epoch 27/40\n",
      "122/122 [==============================] - ETA: 0s - loss: 0.9459 - accuracy: 0.5691\n",
      "Epoch 27: val_loss did not improve from 1.02816\n",
      "122/122 [==============================] - 1s 8ms/step - loss: 0.9459 - accuracy: 0.5691 - val_loss: 1.1021 - val_accuracy: 0.4564\n",
      "Epoch 28/40\n",
      "122/122 [==============================] - ETA: 0s - loss: 0.9513 - accuracy: 0.5707\n",
      "Epoch 28: val_loss improved from 1.02816 to 0.98715, saving model to best_model.weights.h5\n",
      "122/122 [==============================] - 1s 9ms/step - loss: 0.9513 - accuracy: 0.5707 - val_loss: 0.9872 - val_accuracy: 0.5231\n",
      "Epoch 29/40\n",
      "121/122 [============================>.] - ETA: 0s - loss: 0.9469 - accuracy: 0.5638\n",
      "Epoch 29: val_loss did not improve from 0.98715\n",
      "122/122 [==============================] - 1s 11ms/step - loss: 0.9499 - accuracy: 0.5627 - val_loss: 1.0824 - val_accuracy: 0.4846\n",
      "Epoch 30/40\n",
      "116/122 [===========================>..] - ETA: 0s - loss: 0.9329 - accuracy: 0.5781\n",
      "Epoch 30: val_loss did not improve from 0.98715\n",
      "122/122 [==============================] - 1s 7ms/step - loss: 0.9337 - accuracy: 0.5776 - val_loss: 1.1129 - val_accuracy: 0.4577\n",
      "Epoch 31/40\n",
      "119/122 [============================>.] - ETA: 0s - loss: 0.9277 - accuracy: 0.5738\n",
      "Epoch 31: val_loss did not improve from 0.98715\n",
      "122/122 [==============================] - 1s 7ms/step - loss: 0.9287 - accuracy: 0.5725 - val_loss: 1.1526 - val_accuracy: 0.4628\n",
      "Epoch 32/40\n",
      "116/122 [===========================>..] - ETA: 0s - loss: 0.9557 - accuracy: 0.5539\n",
      "Epoch 32: val_loss did not improve from 0.98715\n",
      "122/122 [==============================] - 1s 7ms/step - loss: 0.9549 - accuracy: 0.5524 - val_loss: 1.0321 - val_accuracy: 0.4897\n",
      "Epoch 33/40\n",
      "116/122 [===========================>..] - ETA: 0s - loss: 0.9524 - accuracy: 0.5673\n",
      "Epoch 33: val_loss did not improve from 0.98715\n",
      "122/122 [==============================] - 1s 8ms/step - loss: 0.9486 - accuracy: 0.5696 - val_loss: 1.1938 - val_accuracy: 0.4410\n",
      "Epoch 34/40\n",
      "116/122 [===========================>..] - ETA: 0s - loss: 0.9256 - accuracy: 0.5762\n",
      "Epoch 34: val_loss did not improve from 0.98715\n",
      "122/122 [==============================] - 1s 9ms/step - loss: 0.9225 - accuracy: 0.5779 - val_loss: 1.1176 - val_accuracy: 0.4538\n",
      "Epoch 35/40\n",
      "116/122 [===========================>..] - ETA: 0s - loss: 0.9240 - accuracy: 0.5819\n",
      "Epoch 35: val_loss did not improve from 0.98715\n",
      "122/122 [==============================] - 1s 9ms/step - loss: 0.9238 - accuracy: 0.5789 - val_loss: 0.9989 - val_accuracy: 0.5115\n",
      "Epoch 36/40\n",
      "122/122 [==============================] - ETA: 0s - loss: 0.9355 - accuracy: 0.5568\n",
      "Epoch 36: val_loss did not improve from 0.98715\n",
      "122/122 [==============================] - 1s 8ms/step - loss: 0.9355 - accuracy: 0.5568 - val_loss: 1.0829 - val_accuracy: 0.4987\n",
      "Epoch 37/40\n",
      "118/122 [============================>.] - ETA: 0s - loss: 0.9205 - accuracy: 0.5810\n",
      "Epoch 37: val_loss did not improve from 0.98715\n",
      "122/122 [==============================] - 1s 7ms/step - loss: 0.9220 - accuracy: 0.5814 - val_loss: 1.0431 - val_accuracy: 0.5179\n",
      "Epoch 38/40\n",
      "117/122 [===========================>..] - ETA: 0s - loss: 0.9417 - accuracy: 0.5700\n",
      "Epoch 38: val_loss did not improve from 0.98715\n",
      "122/122 [==============================] - 1s 7ms/step - loss: 0.9392 - accuracy: 0.5689 - val_loss: 1.1030 - val_accuracy: 0.4795\n",
      "Epoch 39/40\n",
      "119/122 [============================>.] - ETA: 0s - loss: 0.9111 - accuracy: 0.5772\n",
      "Epoch 39: val_loss did not improve from 0.98715\n",
      "122/122 [==============================] - 1s 8ms/step - loss: 0.9117 - accuracy: 0.5766 - val_loss: 1.0293 - val_accuracy: 0.4923\n",
      "Epoch 40/40\n",
      "122/122 [==============================] - ETA: 0s - loss: 0.9212 - accuracy: 0.5817\n",
      "Epoch 40: val_loss did not improve from 0.98715\n",
      "122/122 [==============================] - 1s 8ms/step - loss: 0.9212 - accuracy: 0.5817 - val_loss: 1.0218 - val_accuracy: 0.5372\n"
     ]
    }
   ],
   "execution_count": 37
  },
  {
   "metadata": {
    "ExecuteTime": {
     "end_time": "2025-05-22T17:16:34.672485Z",
     "start_time": "2025-05-22T17:16:34.572092Z"
    }
   },
   "cell_type": "code",
   "source": [
    "pd.DataFrame(history.history).plot(figsize=(15, 8))\n",
    "plt.grid(True)\n",
    "plt.gca().set_ylim(0, 1)\n",
    "plt.show()"
   ],
   "id": "78d4cfb01af72746",
   "outputs": [
    {
     "data": {
      "text/plain": [
       "<Figure size 1500x800 with 1 Axes>"
      ],
      "image/png": "[encoded data removed]"
     },
     "metadata": {},
     "output_type": "display_data"
    }
   ],
   "execution_count": 38
  },
  {
   "metadata": {
    "ExecuteTime": {
     "end_time": "2025-05-22T17:16:34.894856Z",
     "start_time": "2025-05-22T17:16:34.720478Z"
    }
   },
   "cell_type": "code",
   "source": [
    "y_pred = model.predict(X_test)\n",
    "y_pred_labels = y_pred.argmax(axis=1)\n",
    "\n",
    "\n",
    "# y_test: true labels, y_pred_labels: predicted labels\n",
    "print(classification_report(y_test, y_pred_labels, target_names=le.classes_))\n",
    "print(\"Cohen's Kappa:\", cohen_kappa_score(y_test, y_pred_labels))\n",
    "print(\"Balanced Accuracy:\", balanced_accuracy_score(y_test, y_pred_labels))"
   ],
   "id": "91df9585112fd117",
   "outputs": [
    {
     "name": "stdout",
     "output_type": "stream",
     "text": [
      "25/25 [==============================] - 0s 2ms/step\n",
      "              precision    recall  f1-score   support\n",
      "\n",
      "          QB       0.49      0.79      0.61       117\n",
      "          RB       0.50      0.40      0.45       285\n",
      "          TE       0.44      0.39      0.41        85\n",
      "          WR       0.55      0.54      0.54       293\n",
      "\n",
      "    accuracy                           0.51       780\n",
      "   macro avg       0.50      0.53      0.50       780\n",
      "weighted avg       0.51      0.51      0.50       780\n",
      "\n",
      "Cohen's Kappa: 0.30977619636005527\n",
      "Balanced Accuracy: 0.5314662519192364\n"
     ]
    }
   ],
   "execution_count": 39
  },
  {
   "metadata": {
    "ExecuteTime": {
     "end_time": "2025-05-22T17:16:34.936228Z",
     "start_time": "2025-05-22T17:16:34.933290Z"
    }
   },
   "cell_type": "code",
   "source": [
    "print(pd.Series(draft_data['position_drafted_encoded']).value_counts())\n",
    "for idx, label in enumerate(le.classes_):\n",
    "    print(f\"{label}: {idx}\")"
   ],
   "id": "3f60aea9ba11d782",
   "outputs": [
    {
     "name": "stdout",
     "output_type": "stream",
     "text": [
      "position_drafted_encoded\n",
      "3    1581\n",
      "1    1285\n",
      "0     584\n",
      "2     450\n",
      "Name: count, dtype: int64\n",
      "QB: 0\n",
      "RB: 1\n",
      "TE: 2\n",
      "WR: 3\n"
     ]
    }
   ],
   "execution_count": 40
  },
  {
   "metadata": {
    "ExecuteTime": {
     "end_time": "2025-05-22T17:16:35.358287Z",
     "start_time": "2025-05-22T17:16:34.983403Z"
    }
   },
   "cell_type": "code",
   "source": [
    "xgb_model = xgb.XGBClassifier(eval_metric='mlogloss')\n",
    "xgb_model.fit(X_train, y_train)\n",
    "print(\"Validation accuracy:\", xgb_model.score(X_val, y_val))"
   ],
   "id": "d31c044bb1f2ddf7",
   "outputs": [
    {
     "name": "stdout",
     "output_type": "stream",
     "text": [
      "Validation accuracy: 0.5474358974358975\n"
     ]
    }
   ],
   "execution_count": 41
  },
  {
   "metadata": {
    "ExecuteTime": {
     "end_time": "2025-05-22T17:16:35.824145Z",
     "start_time": "2025-05-22T17:16:35.407391Z"
    }
   },
   "cell_type": "code",
   "source": [
    "rf = RandomForestClassifier(n_estimators=100, random_state=42)\n",
    "rf.fit(X_train, y_train)\n",
    "print(\"Validation accuracy:\", rf.score(X_val, y_val))"
   ],
   "id": "caf68091902e2431",
   "outputs": [
    {
     "name": "stdout",
     "output_type": "stream",
     "text": [
      "Validation accuracy: 0.514102564102564\n"
     ]
    }
   ],
   "execution_count": 42
  },
  {
   "metadata": {
    "ExecuteTime": {
     "end_time": "2025-05-22T17:16:35.862221Z",
     "start_time": "2025-05-22T17:16:35.860478Z"
    }
   },
   "cell_type": "code",
   "source": "",
   "id": "3c4bbd67178c2112",
   "outputs": [],
   "execution_count": null
  }
 ],
 "metadata": {
  "kernelspec": {
   "display_name": "Python 3",
   "language": "python",
   "name": "python3"
  },
  "language_info": {
   "codemirror_mode": {
    "name": "ipython",
    "version": 2
   },
   "file_extension": ".py",
   "mimetype": "text/x-python",
   "name": "python",
   "nbconvert_exporter": "python",
   "pygments_lexer": "ipython2",
   "version": "2.7.6"
  }
 },
 "nbformat": 4,
 "nbformat_minor": 5
}
